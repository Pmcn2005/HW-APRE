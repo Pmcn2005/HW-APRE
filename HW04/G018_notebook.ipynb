{
 "cells": [
  {
   "cell_type": "markdown",
   "id": "8ce5bf3e",
   "metadata": {},
   "source": [
    "### Data Load"
   ]
  },
  {
   "cell_type": "code",
   "execution_count": null,
   "id": "04ed2915",
   "metadata": {},
   "outputs": [],
   "source": [
    "import pandas as pd\n",
    "\n",
    "df = pd.read_csv(\"../data/diabetes.csv\")\n",
    "\n",
    "# Separar features (X) e target (y)\n",
    "X = df.drop(\"Outcome\", axis=1) \n",
    "y = df[\"Outcome\"]"
   ]
  }
 ],
 "metadata": {
  "kernelspec": {
   "display_name": "Python 3",
   "language": "python",
   "name": "python3"
  },
  "language_info": {
   "name": "python",
   "version": "3.10.12"
  }
 },
 "nbformat": 4,
 "nbformat_minor": 5
}
