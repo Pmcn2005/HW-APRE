{
 "cells": [
  {
   "cell_type": "code",
   "execution_count": null,
   "id": "4854ea4e",
   "metadata": {},
   "outputs": [
    {
     "name": "stdout",
     "output_type": "stream",
     "text": [
      "a\n"
     ]
    },
    {
     "name": "stderr",
     "output_type": "stream",
     "text": [
      "/home/pedro/.local/lib/python3.10/site-packages/sklearn/neural_network/_multilayer_perceptron.py:788: UserWarning: Training interrupted by user.\n",
      "  warnings.warn(\"Training interrupted by user.\")\n"
     ]
    }
   ],
   "source": [
    "import pandas as pd\n",
    "from sklearn.model_selection import cross_validate\n",
    "from sklearn.linear_model import LinearRegression\n",
    "from sklearn.neural_network import MLPRegressor\n",
    "import matplotlib.pyplot as plt\n",
    "from sklearn.metrics import mean_absolute_error, make_scorer\n",
    "\n",
    "# Carregar o dataset\n",
    "df = pd.read_csv(\"../data/rent.csv\")\n",
    "\n",
    "# Separar features (X) e target (y)\n",
    "X = df.drop(\"price\", axis=1)  # ou o nome correto da coluna de preço\n",
    "y = df[\"price\"]\n",
    "\n",
    "print(\"a\")\n",
    "\n",
    "from sklearn.preprocessing import StandardScaler\n",
    "from sklearn.pipeline import Pipeline\n",
    "\n",
    "# Criar pipelines para cada modelo\n",
    "# Modelo 1: Linear Regression com scaler\n",
    "pipeline1 = Pipeline([(\"scaler\", StandardScaler()), (\"model\", LinearRegression())])\n",
    "\n",
    "# Modelo 2: MLP sem ativação com scaler\n",
    "pipeline2 = Pipeline(\n",
    "    [\n",
    "        (\"scaler\", StandardScaler()),\n",
    "        (\n",
    "            \"model\",\n",
    "            MLPRegressor(\n",
    "                hidden_layer_sizes=(5, 5),\n",
    "                activation=\"identity\",\n",
    "                max_iter=1000,\n",
    "                random_state=42,\n",
    "            ),\n",
    "        ),\n",
    "    ]\n",
    ")\n",
    "\n",
    "# Modelo 3: MLP com ReLU e scaler\n",
    "pipeline3 = Pipeline(\n",
    "    [\n",
    "        (\"scaler\", StandardScaler()),\n",
    "        (\n",
    "            \"model\",\n",
    "            MLPRegressor(\n",
    "                hidden_layer_sizes=(5, 5),\n",
    "                activation=\"relu\",\n",
    "                max_iter=1000,\n",
    "                random_state=42,\n",
    "            ),\n",
    "        ),\n",
    "    ]\n",
    ")\n",
    "\n",
    "# Aplicar cross-validation aos pipelines\n",
    "cv_results1 = cross_validate(\n",
    "    pipeline1, X, y, cv=5, scoring=mae_scorer, return_train_score=True\n",
    ")\n",
    "\n",
    "cv_results2 = cross_validate(\n",
    "    pipeline2, X, y, cv=5, scoring=mae_scorer, return_train_score=True\n",
    ")\n",
    "\n",
    "cv_results3 = cross_validate(\n",
    "    pipeline3, X, y, cv=5, scoring=mae_scorer, return_train_score=True\n",
    ")\n",
    "\n",
    "print(\"c\")\n",
    "\n",
    "# Extrair os MAE (converter para positivo)\n",
    "mae1 = -cv_results1[\"test_score\"]\n",
    "mae2 = -cv_results2[\"test_score\"]\n",
    "mae3 = -cv_results3[\"test_score\"]\n",
    "\n",
    "# Preparar os dados para o boxplot\n",
    "data = [mae1, mae2, mae3]\n",
    "labels = [\"Linear Regression\", \"MLP (no activation)\", \"MLP (ReLU)\"]\n",
    "\n",
    "# Criar o boxplot\n",
    "plt.figure(figsize=(10, 6))\n",
    "plt.boxplot(data, labels=labels)\n",
    "plt.ylabel(\"Test MAE\")\n",
    "plt.title(\"Comparison of Models - 5-Fold Cross-Validation\")\n",
    "plt.grid(True, alpha=0.3)\n",
    "plt.show()"
   ]
  }
 ],
 "metadata": {
  "kernelspec": {
   "display_name": "Python 3",
   "language": "python",
   "name": "python3"
  },
  "language_info": {
   "codemirror_mode": {
    "name": "ipython",
    "version": 3
   },
   "file_extension": ".py",
   "mimetype": "text/x-python",
   "name": "python",
   "nbconvert_exporter": "python",
   "pygments_lexer": "ipython3",
   "version": "3.10.12"
  }
 },
 "nbformat": 4,
 "nbformat_minor": 5
}
